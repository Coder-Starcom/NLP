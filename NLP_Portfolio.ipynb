{
 "cells": [
  {
   "cell_type": "markdown",
   "id": "b0923c97-5b23-4ee9-94c2-e3087b69ada6",
   "metadata": {},
   "source": [
    "# 🧠 NLP Curriculum Portfolio\n",
    "\n",
    "This notebook presents my journey through Natural Language Processing using various foundational and advanced models. Each section includes a summary, key papers, and a link to hands-on implementations in Colab.\n",
    "\n",
    "---\n",
    "\n",
    "## 📘 Curriculum Overview\n",
    "\n",
    "| Section | Model | Task | Paper | Notebook |\n",
    "|--------|-------|------|-------|----------|\n",
    "| 1.1 | NNLM | Predict Next Word | [A Neural Probabilistic Language Model (2003)](https://www.jmlr.org/papers/volume3/bengio03a/bengio03a.pdf) | [NNLM.ipynb](#) |\n",
    "| 1.2 | Word2Vec (Skip-gram) | Word Embedding + Graph | [Distributed Representations (2013)](https://arxiv.org/abs/1310.4546) | [Word2Vec.ipynb](#) |\n",
    "| 1.3 | FastText | Sentence Classification | [Bag of Tricks (2016)](https://arxiv.org/abs/1607.01759) | [FastText.ipynb](#) |\n",
    "| 2.1 | TextCNN | Binary Sentiment Classification | [Kim Yoon (2014)](https://arxiv.org/abs/1408.5882) | [TextCNN.ipynb](#) |\n",
    "| 3.1 | TextRNN | Predict Next Step | [Finding Structure in Time (1990)](https://www.sciencedirect.com/science/article/abs/pii/S0893608005800232) | [TextRNN.ipynb](#) |\n",
    "| 3.2 | TextLSTM | Autocomplete | [LSTM (1997)](https://www.bioinf.jku.at/publications/older/2604.pdf) | [TextLSTM.ipynb](#) |\n",
    "| 3.3 | Bi-LSTM | Predict Next Word | - | [Bi_LSTM.ipynb](#) |\n",
    "| 4.1 | Seq2Seq | Word Change | [Seq2Seq (2014)](https://arxiv.org/abs/1406.1078) | [Seq2Seq.ipynb](#) |\n",
    "| 4.2 | Seq2Seq + Attention | Translate | [Bahdanau et al. (2014)](https://arxiv.org/abs/1409.0473) | [Seq2Seq(Attention).ipynb](#) |\n",
    "| 4.3 | Bi-LSTM + Attention | Sentiment Classification | - | [Bi_LSTM(Attention).ipynb](#) |\n",
    "| 5.1 | Transformer | Translation | [Attention is All You Need (2017)](https://arxiv.org/abs/1706.03762) | [Transformer.ipynb](#), [Greedy Decoder.ipynb](#) |\n",
    "| 5.2 | BERT | NSP + MLM | [BERT (2018)](https://arxiv.org/abs/1810.04805) | [BERT.ipynb](#) |\n",
    "\n",
    "---\n"
   ]
  },
  {
   "cell_type": "code",
   "execution_count": 2,
   "id": "3d6d77d3-da07-4920-9ca6-1a9a94bede68",
   "metadata": {},
   "outputs": [],
   "source": [
    "# ## 🛠️ Dependencies\n",
    "\n",
    "# !pip install torch==1.0.0\n",
    "# !pip install nltk matplotlib gensim spacy"
   ]
  }
 ],
 "metadata": {
  "kernelspec": {
   "display_name": "Python 3 (ipykernel)",
   "language": "python",
   "name": "python3"
  },
  "language_info": {
   "codemirror_mode": {
    "name": "ipython",
    "version": 3
   },
   "file_extension": ".py",
   "mimetype": "text/x-python",
   "name": "python",
   "nbconvert_exporter": "python",
   "pygments_lexer": "ipython3",
   "version": "3.13.5"
  }
 },
 "nbformat": 4,
 "nbformat_minor": 5
}
